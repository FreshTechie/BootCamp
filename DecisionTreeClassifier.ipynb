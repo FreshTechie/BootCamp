{
 "cells": [
  {
   "cell_type": "code",
   "execution_count": 2,
   "metadata": {},
   "outputs": [
    {
     "name": "stderr",
     "output_type": "stream",
     "text": [
      "C:\\Users\\shiva\\Anaconda3\\lib\\site-packages\\sklearn\\cross_validation.py:41: DeprecationWarning: This module was deprecated in version 0.18 in favor of the model_selection module into which all the refactored classes and functions are moved. Also note that the interface of the new CV iterators are different from that of this module. This module will be removed in 0.20.\n",
      "  \"This module will be removed in 0.20.\", DeprecationWarning)\n"
     ]
    }
   ],
   "source": [
    "import os\n",
    "import numpy as np\n",
    "import pandas as pd\n",
    "import numpy as np, pandas as pd\n",
    "import matplotlib.pyplot as plt\n",
    "from sklearn.metrics import confusion_matrix \n",
    "from sklearn.cross_validation import train_test_split \n",
    "from sklearn.tree import DecisionTreeClassifier \n",
    "from sklearn.metrics import accuracy_score \n",
    "from sklearn.metrics import classification_report \n",
    "from sklearn import tree\n",
    "\n"
   ]
  },
  {
   "cell_type": "code",
   "execution_count": 3,
   "metadata": {
    "scrolled": true
   },
   "outputs": [
    {
     "name": "stdout",
     "output_type": "stream",
     "text": [
      "Results Using Gini Index:\n",
      "Misclassified samples: 454\n",
      "Accuracy: 0.01\n"
     ]
    }
   ],
   "source": [
    "  balance_data =pd.read_csv('D:\\Shiva\\Data Scientist\\Python\\Simple_Linear_Regression\\Simple_Linear_Regression\\interview-dataset.csv'\n",
    "                , names=['pred_maint_data_flg','block','batt_volt','comp_type','cur_after300ms_c','cur_after300ms_o','cur_c_arr.38','cur_o_arr.33','datetime','direction','door','door_ref.DR5','door_ref.equip_loc','eventcounter','index','kc_after300ms_c','kc_after300ms_o','loc_door_c.openswtch','loc_door_c.swtch2','loc_door_o.openswtch','loc_door_o.swtch2','maint_ver','max_calcstroke_c','message','numcumulsecpoweron','numunlockpoweron','obstacledetected_c','obstacledetected_o','product_type','pwm_after300ms_c','pwm_after300ms_o','residue_fcv','resist_after300ms_c','resist_after300ms_o','revision','software_ver.octet3','station','time_first_opening','time_last_closing','train_id','ttime_c_arr.38','ttime_c_spd_arr.38','ttime_o_arr.33','ttime_o_spd_arr.33','volt_after300ms_c','volt_after300ms_o','volt_o_arr.20'])\n",
    "  \n",
    "\n",
    "  balance_data['pred_maint_data_flg'],_ = pd.factorize(balance_data['pred_maint_data_flg'])\n",
    "  balance_data['block'],_ = pd.factorize(balance_data['block'])\n",
    "  balance_data['batt_volt'],_ = pd.factorize(balance_data['batt_volt'])\n",
    "  balance_data['comp_type'],_ = pd.factorize(balance_data['comp_type'])                   \n",
    "  balance_data['cur_after300ms_c'],_ = pd.factorize(balance_data['cur_after300ms_c'])\n",
    "  balance_data['cur_after300ms_o'],_ = pd.factorize(balance_data['cur_after300ms_o'])\n",
    "  balance_data['cur_c_arr.38'],_ = pd.factorize(balance_data['cur_c_arr.38'])\n",
    "  balance_data['cur_o_arr.33'],_ = pd.factorize(balance_data['cur_o_arr.33'])\n",
    "  balance_data['datetime'],_ = pd.factorize(balance_data['datetime'])\n",
    "  balance_data['direction'],_ = pd.factorize(balance_data['direction'])  \n",
    "  balance_data['door'],_ = pd.factorize(balance_data['door'])  \n",
    "  balance_data['door_ref.DR5'],_ = pd.factorize(balance_data['door_ref.DR5'])  \n",
    "  balance_data['door_ref.equip_loc'],_ = pd.factorize(balance_data['door_ref.equip_loc'])  \n",
    "  balance_data['eventcounter'],_ = pd.factorize(balance_data['eventcounter'])\n",
    "  balance_data['index'],_ = pd.factorize(balance_data['index'])\n",
    "  balance_data['kc_after300ms_c'],_ = pd.factorize(balance_data['kc_after300ms_c'])\n",
    "  balance_data['kc_after300ms_o'],_ = pd.factorize(balance_data['kc_after300ms_o'])\n",
    "  \n",
    "  balance_data['loc_door_c.openswtch'],_ = pd.factorize(balance_data['loc_door_c.openswtch'])\n",
    "  balance_data['loc_door_c.swtch2'],_ = pd.factorize(balance_data['loc_door_c.swtch2'])\n",
    "  balance_data['loc_door_o.openswtch'],_ = pd.factorize(balance_data['loc_door_o.openswtch']) \n",
    "  balance_data['loc_door_o.swtch2'],_ = pd.factorize(balance_data['loc_door_o.swtch2'])\n",
    "  balance_data['maint_ver'],_ = pd.factorize(balance_data['maint_ver'])\n",
    "  balance_data['max_calcstroke_c'],_ = pd.factorize(balance_data['max_calcstroke_c'])\n",
    "  balance_data['message'],_ = pd.factorize(balance_data['message'])\n",
    "  balance_data['numcumulsecpoweron'],_ = pd.factorize(balance_data['numcumulsecpoweron'])\n",
    "  balance_data['numunlockpoweron'],_ = pd.factorize(balance_data['numunlockpoweron'])\n",
    "  balance_data['obstacledetected_c'],_ = pd.factorize(balance_data['obstacledetected_c'])\n",
    "  balance_data['obstacledetected_o'],_ = pd.factorize(balance_data['obstacledetected_o'])\n",
    "\n",
    "  balance_data['product_type'],_ = pd.factorize(balance_data['product_type'])\n",
    "  balance_data['pwm_after300ms_c'],_ = pd.factorize(balance_data['pwm_after300ms_c'])\n",
    "  balance_data['pwm_after300ms_o'],_ = pd.factorize(balance_data['pwm_after300ms_o'])\n",
    "  balance_data['residue_fcv'],_ = pd.factorize(balance_data['residue_fcv'])\n",
    "\n",
    "  balance_data['resist_after300ms_c'],_ = pd.factorize(balance_data['resist_after300ms_c'])\n",
    "  balance_data['resist_after300ms_o'],_ = pd.factorize(balance_data['resist_after300ms_o'])\n",
    "  balance_data['revision'],_ = pd.factorize(balance_data['revision'])  \n",
    "  balance_data['software_ver.octet3'],_ = pd.factorize(balance_data['software_ver.octet3'])\n",
    "  balance_data['station'],_ = pd.factorize(balance_data['station'])\n",
    "  balance_data['time_first_opening'],_ = pd.factorize(balance_data['time_first_opening'])\n",
    "  balance_data['time_last_closing'],_ = pd.factorize(balance_data['time_last_closing']) \n",
    "  balance_data['train_id'],_ = pd.factorize(balance_data['train_id'])\n",
    "                \n",
    "\n",
    "  balance_data['volt_o_arr.20'],_ = pd.factorize(balance_data['volt_o_arr.20'])\n",
    "  balance_data['volt_after300ms_o'],_ = pd.factorize(balance_data['volt_after300ms_o'])\n",
    "  balance_data['volt_after300ms_c'],_ = pd.factorize(balance_data['volt_after300ms_c'])\n",
    "  balance_data['ttime_o_spd_arr.33'],_ = pd.factorize(balance_data['ttime_o_spd_arr.33'])\n",
    "  balance_data['ttime_o_arr.33'],_ = pd.factorize(balance_data['ttime_o_arr.33'])\n",
    "  balance_data['ttime_c_spd_arr.38'],_ = pd.factorize(balance_data['ttime_c_spd_arr.38'])\n",
    "  balance_data['ttime_c_arr.38'],_ = pd.factorize(balance_data['ttime_c_arr.38'])\n",
    "\n",
    "  #balance_data.info()\n",
    "    \n",
    "  X = balance_data.values[:,1:46]\n",
    "  Y = balance_data.pred_maint_data_flg\n",
    "    \n",
    "  X_train, X_test, y_train, y_test = train_test_split(X, Y, test_size = 0.3, random_state = 100) \n",
    "     \n",
    "  clf_gini = DecisionTreeClassifier(criterion = \"gini\", random_state = 100,\n",
    "                             max_depth=3, min_samples_leaf=5)\n",
    "   \n",
    "  clf_gini.fit(X_train, y_train)\n",
    "\n",
    "   \n",
    "    \n",
    "  # Operational Phase \n",
    "  print(\"Results Using Gini Index:\") \n",
    "    \n",
    "  # Prediction using gini \n",
    "  y_pred_gini = clf_gini.predict(X_test) \n",
    "  #cal_accuracy(y_test, y_pred_gini) \n",
    "  #print(\"X Value-->\",X)\n",
    "  #print(\"Y Value-->\",Y)  \n",
    "  #print(\"X Train-->\",X_train)\n",
    "  #print(\"Y Train-->\",y_train)\n",
    "  #print(\"X Test-->\",X_test)\n",
    "  #print(\"Y Test-->\",y_test)\n",
    "  #print(\"y_pred_gini\",y_pred_gini)\n",
    "    \n",
    "  # how did our model perform?\n",
    "#print(\"Misclassified Samples-->\",(y_test != y_pred_gini))\n",
    "count_misclassified = (y_test != y_pred_gini).sum()\n",
    "print('Misclassified samples: {}'.format(count_misclassified))\n",
    "\n",
    "#cal_accuracy(y_test, y_pred_gini) \n",
    "accuracy=accuracy_score(y_test, y_pred_gini)\n",
    "print('Accuracy: {:.2f}'.format(accuracy))\n",
    "\n",
    "\n",
    "    "
   ]
  }
 ],
 "metadata": {
  "kernelspec": {
   "display_name": "Python 3",
   "language": "python",
   "name": "python3"
  },
  "language_info": {
   "codemirror_mode": {
    "name": "ipython",
    "version": 3
   },
   "file_extension": ".py",
   "mimetype": "text/x-python",
   "name": "python",
   "nbconvert_exporter": "python",
   "pygments_lexer": "ipython3",
   "version": "3.6.5"
  }
 },
 "nbformat": 4,
 "nbformat_minor": 2
}
